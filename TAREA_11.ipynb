{
  "nbformat": 4,
  "nbformat_minor": 0,
  "metadata": {
    "colab": {
      "provenance": [],
      "authorship_tag": "ABX9TyP/+8u+0upc2p3/6aPx45p0",
      "include_colab_link": true
    },
    "kernelspec": {
      "name": "python3",
      "display_name": "Python 3"
    },
    "language_info": {
      "name": "python"
    }
  },
  "cells": [
    {
      "cell_type": "markdown",
      "metadata": {
        "id": "view-in-github",
        "colab_type": "text"
      },
      "source": [
        "<a href=\"https://colab.research.google.com/github/joshua12cx/TAREA-11_-miner-a-de-datos/blob/main/TAREA_11.ipynb\" target=\"_parent\"><img src=\"https://colab.research.google.com/assets/colab-badge.svg\" alt=\"Open In Colab\"/></a>"
      ]
    },
    {
      "cell_type": "markdown",
      "source": [
        "# TAREA 11"
      ],
      "metadata": {
        "id": "9c-dOClx_TFx"
      }
    },
    {
      "cell_type": "markdown",
      "source": [
        "# Nivel FRECUENCIAS — Análisis de Sentimientos con TF-IDF + Naive Bayes"
      ],
      "metadata": {
        "id": "Yvm99hHs8-GK"
      }
    },
    {
      "cell_type": "markdown",
      "source": [
        "Objetivo: construir un pipeline completo y educativo para clasificar opiniones (positivo / negativo / neutro) usando un dataset CSV, preprocesamiento mínimo, TF-IDF y Naive Bayes."
      ],
      "metadata": {
        "id": "S4bB77Ly9Ef7"
      }
    },
    {
      "cell_type": "markdown",
      "source": [
        "1. Librerías necesarias"
      ],
      "metadata": {
        "id": "1v9MXW7Z9QIn"
      }
    },
    {
      "cell_type": "code",
      "execution_count": 1,
      "metadata": {
        "colab": {
          "base_uri": "https://localhost:8080/"
        },
        "id": "hpslt0eT89eP",
        "outputId": "1492f02f-824c-4949-8380-849f6c1ee928"
      },
      "outputs": [
        {
          "output_type": "stream",
          "name": "stdout",
          "text": [
            " Librerías cargadas correctamente\n"
          ]
        }
      ],
      "source": [
        "# Librerías esenciales para análisis de texto y machine learning\n",
        "import pandas as pd\n",
        "import numpy as np\n",
        "from sklearn.model_selection import train_test_split\n",
        "from sklearn.feature_extraction.text import TfidfVectorizer\n",
        "from sklearn.naive_bayes import MultinomialNB\n",
        "from sklearn.pipeline import Pipeline\n",
        "from sklearn.metrics import accuracy_score, classification_report, confusion_matrix, ConfusionMatrixDisplay\n",
        "import matplotlib.pyplot as plt\n",
        "\n",
        "# Configuración opcional para ver texto completo en pandas\n",
        "pd.set_option('display.max_colwidth', 120)\n",
        "print(\" Librerías cargadas correctamente\")\n"
      ]
    },
    {
      "cell_type": "markdown",
      "source": [
        "\n",
        "\n",
        "Explicación:\n",
        "\n",
        "pandas y numpy → manejo de datos.\n",
        "\n",
        "sklearn → entrenamiento del modelo y evaluación.\n",
        "\n",
        "matplotlib → visualización de resultados.\n",
        "\n",
        "Pipeline → encadena vectorización y modelo en una sola estructura.\n"
      ],
      "metadata": {
        "id": "GentXNeg9M_j"
      }
    },
    {
      "cell_type": "markdown",
      "source": [
        "2. Carga y exploración del dataset"
      ],
      "metadata": {
        "id": "7ncmC36l9Zi1"
      }
    },
    {
      "cell_type": "code",
      "source": [
        "# Ruta del CSV (asegúrate de tenerlo en el mismo directorio de Colab)\n",
        "CSV_PATH = \"dataset_sentiment_balanceado.csv\"\n",
        "\n",
        "df = pd.read_csv(CSV_PATH)\n",
        "print(\" Dataset cargado correctamente\\n\")\n",
        "print(\"Columnas disponibles:\", df.columns.tolist())\n",
        "\n",
        "# Seleccionamos las columnas relevantes\n",
        "COL_TEXTO = \"review\"\n",
        "COL_LABEL = \"sentimiento\"\n",
        "\n",
        "# Eliminamos valores vacíos, por precaución\n",
        "df = df[[COL_TEXTO, COL_LABEL]].dropna().reset_index(drop=True)\n",
        "\n",
        "# Mostramos información básica\n",
        "print(f\"Total de registros: {len(df)}\")\n",
        "print(df[COL_LABEL].value_counts())\n",
        "\n",
        "# Vista previa\n",
        "df.head(5)\n"
      ],
      "metadata": {
        "colab": {
          "base_uri": "https://localhost:8080/",
          "height": 363
        },
        "id": "EsBFboFE9d-D",
        "outputId": "8d82cc09-5411-4aee-fb84-87f4da99b6fb"
      },
      "execution_count": 2,
      "outputs": [
        {
          "output_type": "stream",
          "name": "stdout",
          "text": [
            " Dataset cargado correctamente\n",
            "\n",
            "Columnas disponibles: ['puntuación', 'review', 'sentimiento']\n",
            "Total de registros: 340\n",
            "sentimiento\n",
            "positivo    132\n",
            "neutral     104\n",
            "negativo    104\n",
            "Name: count, dtype: int64\n"
          ]
        },
        {
          "output_type": "execute_result",
          "data": {
            "text/plain": [
              "                                                  review sentimiento\n",
              "0             Todo bien, pero podría mejorar el empaque.     neutral\n",
              "1         Todo salió bien, muy satisfecho con la compra.    positivo\n",
              "2  Me encantó el producto, cumple con todo lo prometido.    positivo\n",
              "3                     El trato fue amable y profesional.    positivo\n",
              "4  Me encantó el producto, cumple con todo lo prometido.    positivo"
            ],
            "text/html": [
              "\n",
              "  <div id=\"df-a000809a-a1b8-4244-9eb6-e2ebab77ce7a\" class=\"colab-df-container\">\n",
              "    <div>\n",
              "<style scoped>\n",
              "    .dataframe tbody tr th:only-of-type {\n",
              "        vertical-align: middle;\n",
              "    }\n",
              "\n",
              "    .dataframe tbody tr th {\n",
              "        vertical-align: top;\n",
              "    }\n",
              "\n",
              "    .dataframe thead th {\n",
              "        text-align: right;\n",
              "    }\n",
              "</style>\n",
              "<table border=\"1\" class=\"dataframe\">\n",
              "  <thead>\n",
              "    <tr style=\"text-align: right;\">\n",
              "      <th></th>\n",
              "      <th>review</th>\n",
              "      <th>sentimiento</th>\n",
              "    </tr>\n",
              "  </thead>\n",
              "  <tbody>\n",
              "    <tr>\n",
              "      <th>0</th>\n",
              "      <td>Todo bien, pero podría mejorar el empaque.</td>\n",
              "      <td>neutral</td>\n",
              "    </tr>\n",
              "    <tr>\n",
              "      <th>1</th>\n",
              "      <td>Todo salió bien, muy satisfecho con la compra.</td>\n",
              "      <td>positivo</td>\n",
              "    </tr>\n",
              "    <tr>\n",
              "      <th>2</th>\n",
              "      <td>Me encantó el producto, cumple con todo lo prometido.</td>\n",
              "      <td>positivo</td>\n",
              "    </tr>\n",
              "    <tr>\n",
              "      <th>3</th>\n",
              "      <td>El trato fue amable y profesional.</td>\n",
              "      <td>positivo</td>\n",
              "    </tr>\n",
              "    <tr>\n",
              "      <th>4</th>\n",
              "      <td>Me encantó el producto, cumple con todo lo prometido.</td>\n",
              "      <td>positivo</td>\n",
              "    </tr>\n",
              "  </tbody>\n",
              "</table>\n",
              "</div>\n",
              "    <div class=\"colab-df-buttons\">\n",
              "\n",
              "  <div class=\"colab-df-container\">\n",
              "    <button class=\"colab-df-convert\" onclick=\"convertToInteractive('df-a000809a-a1b8-4244-9eb6-e2ebab77ce7a')\"\n",
              "            title=\"Convert this dataframe to an interactive table.\"\n",
              "            style=\"display:none;\">\n",
              "\n",
              "  <svg xmlns=\"http://www.w3.org/2000/svg\" height=\"24px\" viewBox=\"0 -960 960 960\">\n",
              "    <path d=\"M120-120v-720h720v720H120Zm60-500h600v-160H180v160Zm220 220h160v-160H400v160Zm0 220h160v-160H400v160ZM180-400h160v-160H180v160Zm440 0h160v-160H620v160ZM180-180h160v-160H180v160Zm440 0h160v-160H620v160Z\"/>\n",
              "  </svg>\n",
              "    </button>\n",
              "\n",
              "  <style>\n",
              "    .colab-df-container {\n",
              "      display:flex;\n",
              "      gap: 12px;\n",
              "    }\n",
              "\n",
              "    .colab-df-convert {\n",
              "      background-color: #E8F0FE;\n",
              "      border: none;\n",
              "      border-radius: 50%;\n",
              "      cursor: pointer;\n",
              "      display: none;\n",
              "      fill: #1967D2;\n",
              "      height: 32px;\n",
              "      padding: 0 0 0 0;\n",
              "      width: 32px;\n",
              "    }\n",
              "\n",
              "    .colab-df-convert:hover {\n",
              "      background-color: #E2EBFA;\n",
              "      box-shadow: 0px 1px 2px rgba(60, 64, 67, 0.3), 0px 1px 3px 1px rgba(60, 64, 67, 0.15);\n",
              "      fill: #174EA6;\n",
              "    }\n",
              "\n",
              "    .colab-df-buttons div {\n",
              "      margin-bottom: 4px;\n",
              "    }\n",
              "\n",
              "    [theme=dark] .colab-df-convert {\n",
              "      background-color: #3B4455;\n",
              "      fill: #D2E3FC;\n",
              "    }\n",
              "\n",
              "    [theme=dark] .colab-df-convert:hover {\n",
              "      background-color: #434B5C;\n",
              "      box-shadow: 0px 1px 3px 1px rgba(0, 0, 0, 0.15);\n",
              "      filter: drop-shadow(0px 1px 2px rgba(0, 0, 0, 0.3));\n",
              "      fill: #FFFFFF;\n",
              "    }\n",
              "  </style>\n",
              "\n",
              "    <script>\n",
              "      const buttonEl =\n",
              "        document.querySelector('#df-a000809a-a1b8-4244-9eb6-e2ebab77ce7a button.colab-df-convert');\n",
              "      buttonEl.style.display =\n",
              "        google.colab.kernel.accessAllowed ? 'block' : 'none';\n",
              "\n",
              "      async function convertToInteractive(key) {\n",
              "        const element = document.querySelector('#df-a000809a-a1b8-4244-9eb6-e2ebab77ce7a');\n",
              "        const dataTable =\n",
              "          await google.colab.kernel.invokeFunction('convertToInteractive',\n",
              "                                                    [key], {});\n",
              "        if (!dataTable) return;\n",
              "\n",
              "        const docLinkHtml = 'Like what you see? Visit the ' +\n",
              "          '<a target=\"_blank\" href=https://colab.research.google.com/notebooks/data_table.ipynb>data table notebook</a>'\n",
              "          + ' to learn more about interactive tables.';\n",
              "        element.innerHTML = '';\n",
              "        dataTable['output_type'] = 'display_data';\n",
              "        await google.colab.output.renderOutput(dataTable, element);\n",
              "        const docLink = document.createElement('div');\n",
              "        docLink.innerHTML = docLinkHtml;\n",
              "        element.appendChild(docLink);\n",
              "      }\n",
              "    </script>\n",
              "  </div>\n",
              "\n",
              "\n",
              "    <div id=\"df-09e20ec6-34c8-4982-ac44-b940b92a0d30\">\n",
              "      <button class=\"colab-df-quickchart\" onclick=\"quickchart('df-09e20ec6-34c8-4982-ac44-b940b92a0d30')\"\n",
              "                title=\"Suggest charts\"\n",
              "                style=\"display:none;\">\n",
              "\n",
              "<svg xmlns=\"http://www.w3.org/2000/svg\" height=\"24px\"viewBox=\"0 0 24 24\"\n",
              "     width=\"24px\">\n",
              "    <g>\n",
              "        <path d=\"M19 3H5c-1.1 0-2 .9-2 2v14c0 1.1.9 2 2 2h14c1.1 0 2-.9 2-2V5c0-1.1-.9-2-2-2zM9 17H7v-7h2v7zm4 0h-2V7h2v10zm4 0h-2v-4h2v4z\"/>\n",
              "    </g>\n",
              "</svg>\n",
              "      </button>\n",
              "\n",
              "<style>\n",
              "  .colab-df-quickchart {\n",
              "      --bg-color: #E8F0FE;\n",
              "      --fill-color: #1967D2;\n",
              "      --hover-bg-color: #E2EBFA;\n",
              "      --hover-fill-color: #174EA6;\n",
              "      --disabled-fill-color: #AAA;\n",
              "      --disabled-bg-color: #DDD;\n",
              "  }\n",
              "\n",
              "  [theme=dark] .colab-df-quickchart {\n",
              "      --bg-color: #3B4455;\n",
              "      --fill-color: #D2E3FC;\n",
              "      --hover-bg-color: #434B5C;\n",
              "      --hover-fill-color: #FFFFFF;\n",
              "      --disabled-bg-color: #3B4455;\n",
              "      --disabled-fill-color: #666;\n",
              "  }\n",
              "\n",
              "  .colab-df-quickchart {\n",
              "    background-color: var(--bg-color);\n",
              "    border: none;\n",
              "    border-radius: 50%;\n",
              "    cursor: pointer;\n",
              "    display: none;\n",
              "    fill: var(--fill-color);\n",
              "    height: 32px;\n",
              "    padding: 0;\n",
              "    width: 32px;\n",
              "  }\n",
              "\n",
              "  .colab-df-quickchart:hover {\n",
              "    background-color: var(--hover-bg-color);\n",
              "    box-shadow: 0 1px 2px rgba(60, 64, 67, 0.3), 0 1px 3px 1px rgba(60, 64, 67, 0.15);\n",
              "    fill: var(--button-hover-fill-color);\n",
              "  }\n",
              "\n",
              "  .colab-df-quickchart-complete:disabled,\n",
              "  .colab-df-quickchart-complete:disabled:hover {\n",
              "    background-color: var(--disabled-bg-color);\n",
              "    fill: var(--disabled-fill-color);\n",
              "    box-shadow: none;\n",
              "  }\n",
              "\n",
              "  .colab-df-spinner {\n",
              "    border: 2px solid var(--fill-color);\n",
              "    border-color: transparent;\n",
              "    border-bottom-color: var(--fill-color);\n",
              "    animation:\n",
              "      spin 1s steps(1) infinite;\n",
              "  }\n",
              "\n",
              "  @keyframes spin {\n",
              "    0% {\n",
              "      border-color: transparent;\n",
              "      border-bottom-color: var(--fill-color);\n",
              "      border-left-color: var(--fill-color);\n",
              "    }\n",
              "    20% {\n",
              "      border-color: transparent;\n",
              "      border-left-color: var(--fill-color);\n",
              "      border-top-color: var(--fill-color);\n",
              "    }\n",
              "    30% {\n",
              "      border-color: transparent;\n",
              "      border-left-color: var(--fill-color);\n",
              "      border-top-color: var(--fill-color);\n",
              "      border-right-color: var(--fill-color);\n",
              "    }\n",
              "    40% {\n",
              "      border-color: transparent;\n",
              "      border-right-color: var(--fill-color);\n",
              "      border-top-color: var(--fill-color);\n",
              "    }\n",
              "    60% {\n",
              "      border-color: transparent;\n",
              "      border-right-color: var(--fill-color);\n",
              "    }\n",
              "    80% {\n",
              "      border-color: transparent;\n",
              "      border-right-color: var(--fill-color);\n",
              "      border-bottom-color: var(--fill-color);\n",
              "    }\n",
              "    90% {\n",
              "      border-color: transparent;\n",
              "      border-bottom-color: var(--fill-color);\n",
              "    }\n",
              "  }\n",
              "</style>\n",
              "\n",
              "      <script>\n",
              "        async function quickchart(key) {\n",
              "          const quickchartButtonEl =\n",
              "            document.querySelector('#' + key + ' button');\n",
              "          quickchartButtonEl.disabled = true;  // To prevent multiple clicks.\n",
              "          quickchartButtonEl.classList.add('colab-df-spinner');\n",
              "          try {\n",
              "            const charts = await google.colab.kernel.invokeFunction(\n",
              "                'suggestCharts', [key], {});\n",
              "          } catch (error) {\n",
              "            console.error('Error during call to suggestCharts:', error);\n",
              "          }\n",
              "          quickchartButtonEl.classList.remove('colab-df-spinner');\n",
              "          quickchartButtonEl.classList.add('colab-df-quickchart-complete');\n",
              "        }\n",
              "        (() => {\n",
              "          let quickchartButtonEl =\n",
              "            document.querySelector('#df-09e20ec6-34c8-4982-ac44-b940b92a0d30 button');\n",
              "          quickchartButtonEl.style.display =\n",
              "            google.colab.kernel.accessAllowed ? 'block' : 'none';\n",
              "        })();\n",
              "      </script>\n",
              "    </div>\n",
              "\n",
              "    </div>\n",
              "  </div>\n"
            ],
            "application/vnd.google.colaboratory.intrinsic+json": {
              "type": "dataframe",
              "variable_name": "df",
              "summary": "{\n  \"name\": \"df\",\n  \"rows\": 340,\n  \"fields\": [\n    {\n      \"column\": \"review\",\n      \"properties\": {\n        \"dtype\": \"category\",\n        \"num_unique_values\": 60,\n        \"samples\": [\n          \"Todo bien, pero podr\\u00eda mejorar el empaque.\",\n          \"El producto lleg\\u00f3 roto y con mala presentaci\\u00f3n.\",\n          \"Muy amable y agradable todo gracias al camarero Iker, con este dia de lluvia nos ha buscado el mejor sitio posible y acogedor para unos cuantos amigos. Muy recomendable!! Volveremos\\ud83d\\ude0aM\\u00e1s\"\n        ],\n        \"semantic_type\": \"\",\n        \"description\": \"\"\n      }\n    },\n    {\n      \"column\": \"sentimiento\",\n      \"properties\": {\n        \"dtype\": \"category\",\n        \"num_unique_values\": 3,\n        \"samples\": [\n          \"neutral\",\n          \"positivo\",\n          \"negativo\"\n        ],\n        \"semantic_type\": \"\",\n        \"description\": \"\"\n      }\n    }\n  ]\n}"
            }
          },
          "metadata": {},
          "execution_count": 2
        }
      ]
    },
    {
      "cell_type": "markdown",
      "source": [
        "Explicación:\n",
        "\n",
        "Cargamos el dataset balanceado.\n",
        "\n",
        "Confirmamos nombres de columnas: review → texto, sentimiento → etiqueta.\n",
        "\n",
        "Se eliminan nulos y se imprime distribución de clases."
      ],
      "metadata": {
        "id": "JlZNoT9c9gVA"
      }
    },
    {
      "cell_type": "markdown",
      "source": [
        "3. Preprocesamiento textual"
      ],
      "metadata": {
        "id": "pN-gPtVd9ht4"
      }
    },
    {
      "cell_type": "code",
      "source": [
        "# Preprocesamiento mínimo: limpieza básica\n",
        "def preprocesar_minimo(texto: str) -> str:\n",
        "    return str(texto).strip()\n",
        "\n",
        "df[\"texto_proc\"] = df[COL_TEXTO].apply(preprocesar_minimo)\n",
        "df.head(3)\n"
      ],
      "metadata": {
        "colab": {
          "base_uri": "https://localhost:8080/",
          "height": 196
        },
        "id": "Mg-sTuhD9i6k",
        "outputId": "b9ae5499-a125-4257-d68f-7102fc783fc9"
      },
      "execution_count": 5,
      "outputs": [
        {
          "output_type": "execute_result",
          "data": {
            "text/plain": [
              "                                                  review sentimiento  \\\n",
              "0             Todo bien, pero podría mejorar el empaque.     neutral   \n",
              "1         Todo salió bien, muy satisfecho con la compra.    positivo   \n",
              "2  Me encantó el producto, cumple con todo lo prometido.    positivo   \n",
              "\n",
              "                                              texto_proc  \n",
              "0             Todo bien, pero podría mejorar el empaque.  \n",
              "1         Todo salió bien, muy satisfecho con la compra.  \n",
              "2  Me encantó el producto, cumple con todo lo prometido.  "
            ],
            "text/html": [
              "\n",
              "  <div id=\"df-1504d4a3-7574-4bfe-b208-2aedb32aa4a5\" class=\"colab-df-container\">\n",
              "    <div>\n",
              "<style scoped>\n",
              "    .dataframe tbody tr th:only-of-type {\n",
              "        vertical-align: middle;\n",
              "    }\n",
              "\n",
              "    .dataframe tbody tr th {\n",
              "        vertical-align: top;\n",
              "    }\n",
              "\n",
              "    .dataframe thead th {\n",
              "        text-align: right;\n",
              "    }\n",
              "</style>\n",
              "<table border=\"1\" class=\"dataframe\">\n",
              "  <thead>\n",
              "    <tr style=\"text-align: right;\">\n",
              "      <th></th>\n",
              "      <th>review</th>\n",
              "      <th>sentimiento</th>\n",
              "      <th>texto_proc</th>\n",
              "    </tr>\n",
              "  </thead>\n",
              "  <tbody>\n",
              "    <tr>\n",
              "      <th>0</th>\n",
              "      <td>Todo bien, pero podría mejorar el empaque.</td>\n",
              "      <td>neutral</td>\n",
              "      <td>Todo bien, pero podría mejorar el empaque.</td>\n",
              "    </tr>\n",
              "    <tr>\n",
              "      <th>1</th>\n",
              "      <td>Todo salió bien, muy satisfecho con la compra.</td>\n",
              "      <td>positivo</td>\n",
              "      <td>Todo salió bien, muy satisfecho con la compra.</td>\n",
              "    </tr>\n",
              "    <tr>\n",
              "      <th>2</th>\n",
              "      <td>Me encantó el producto, cumple con todo lo prometido.</td>\n",
              "      <td>positivo</td>\n",
              "      <td>Me encantó el producto, cumple con todo lo prometido.</td>\n",
              "    </tr>\n",
              "  </tbody>\n",
              "</table>\n",
              "</div>\n",
              "    <div class=\"colab-df-buttons\">\n",
              "\n",
              "  <div class=\"colab-df-container\">\n",
              "    <button class=\"colab-df-convert\" onclick=\"convertToInteractive('df-1504d4a3-7574-4bfe-b208-2aedb32aa4a5')\"\n",
              "            title=\"Convert this dataframe to an interactive table.\"\n",
              "            style=\"display:none;\">\n",
              "\n",
              "  <svg xmlns=\"http://www.w3.org/2000/svg\" height=\"24px\" viewBox=\"0 -960 960 960\">\n",
              "    <path d=\"M120-120v-720h720v720H120Zm60-500h600v-160H180v160Zm220 220h160v-160H400v160Zm0 220h160v-160H400v160ZM180-400h160v-160H180v160Zm440 0h160v-160H620v160ZM180-180h160v-160H180v160Zm440 0h160v-160H620v160Z\"/>\n",
              "  </svg>\n",
              "    </button>\n",
              "\n",
              "  <style>\n",
              "    .colab-df-container {\n",
              "      display:flex;\n",
              "      gap: 12px;\n",
              "    }\n",
              "\n",
              "    .colab-df-convert {\n",
              "      background-color: #E8F0FE;\n",
              "      border: none;\n",
              "      border-radius: 50%;\n",
              "      cursor: pointer;\n",
              "      display: none;\n",
              "      fill: #1967D2;\n",
              "      height: 32px;\n",
              "      padding: 0 0 0 0;\n",
              "      width: 32px;\n",
              "    }\n",
              "\n",
              "    .colab-df-convert:hover {\n",
              "      background-color: #E2EBFA;\n",
              "      box-shadow: 0px 1px 2px rgba(60, 64, 67, 0.3), 0px 1px 3px 1px rgba(60, 64, 67, 0.15);\n",
              "      fill: #174EA6;\n",
              "    }\n",
              "\n",
              "    .colab-df-buttons div {\n",
              "      margin-bottom: 4px;\n",
              "    }\n",
              "\n",
              "    [theme=dark] .colab-df-convert {\n",
              "      background-color: #3B4455;\n",
              "      fill: #D2E3FC;\n",
              "    }\n",
              "\n",
              "    [theme=dark] .colab-df-convert:hover {\n",
              "      background-color: #434B5C;\n",
              "      box-shadow: 0px 1px 3px 1px rgba(0, 0, 0, 0.15);\n",
              "      filter: drop-shadow(0px 1px 2px rgba(0, 0, 0, 0.3));\n",
              "      fill: #FFFFFF;\n",
              "    }\n",
              "  </style>\n",
              "\n",
              "    <script>\n",
              "      const buttonEl =\n",
              "        document.querySelector('#df-1504d4a3-7574-4bfe-b208-2aedb32aa4a5 button.colab-df-convert');\n",
              "      buttonEl.style.display =\n",
              "        google.colab.kernel.accessAllowed ? 'block' : 'none';\n",
              "\n",
              "      async function convertToInteractive(key) {\n",
              "        const element = document.querySelector('#df-1504d4a3-7574-4bfe-b208-2aedb32aa4a5');\n",
              "        const dataTable =\n",
              "          await google.colab.kernel.invokeFunction('convertToInteractive',\n",
              "                                                    [key], {});\n",
              "        if (!dataTable) return;\n",
              "\n",
              "        const docLinkHtml = 'Like what you see? Visit the ' +\n",
              "          '<a target=\"_blank\" href=https://colab.research.google.com/notebooks/data_table.ipynb>data table notebook</a>'\n",
              "          + ' to learn more about interactive tables.';\n",
              "        element.innerHTML = '';\n",
              "        dataTable['output_type'] = 'display_data';\n",
              "        await google.colab.output.renderOutput(dataTable, element);\n",
              "        const docLink = document.createElement('div');\n",
              "        docLink.innerHTML = docLinkHtml;\n",
              "        element.appendChild(docLink);\n",
              "      }\n",
              "    </script>\n",
              "  </div>\n",
              "\n",
              "\n",
              "    <div id=\"df-6d1e2f8e-4780-43df-843f-91aa568b0dcc\">\n",
              "      <button class=\"colab-df-quickchart\" onclick=\"quickchart('df-6d1e2f8e-4780-43df-843f-91aa568b0dcc')\"\n",
              "                title=\"Suggest charts\"\n",
              "                style=\"display:none;\">\n",
              "\n",
              "<svg xmlns=\"http://www.w3.org/2000/svg\" height=\"24px\"viewBox=\"0 0 24 24\"\n",
              "     width=\"24px\">\n",
              "    <g>\n",
              "        <path d=\"M19 3H5c-1.1 0-2 .9-2 2v14c0 1.1.9 2 2 2h14c1.1 0 2-.9 2-2V5c0-1.1-.9-2-2-2zM9 17H7v-7h2v7zm4 0h-2V7h2v10zm4 0h-2v-4h2v4z\"/>\n",
              "    </g>\n",
              "</svg>\n",
              "      </button>\n",
              "\n",
              "<style>\n",
              "  .colab-df-quickchart {\n",
              "      --bg-color: #E8F0FE;\n",
              "      --fill-color: #1967D2;\n",
              "      --hover-bg-color: #E2EBFA;\n",
              "      --hover-fill-color: #174EA6;\n",
              "      --disabled-fill-color: #AAA;\n",
              "      --disabled-bg-color: #DDD;\n",
              "  }\n",
              "\n",
              "  [theme=dark] .colab-df-quickchart {\n",
              "      --bg-color: #3B4455;\n",
              "      --fill-color: #D2E3FC;\n",
              "      --hover-bg-color: #434B5C;\n",
              "      --hover-fill-color: #FFFFFF;\n",
              "      --disabled-bg-color: #3B4455;\n",
              "      --disabled-fill-color: #666;\n",
              "  }\n",
              "\n",
              "  .colab-df-quickchart {\n",
              "    background-color: var(--bg-color);\n",
              "    border: none;\n",
              "    border-radius: 50%;\n",
              "    cursor: pointer;\n",
              "    display: none;\n",
              "    fill: var(--fill-color);\n",
              "    height: 32px;\n",
              "    padding: 0;\n",
              "    width: 32px;\n",
              "  }\n",
              "\n",
              "  .colab-df-quickchart:hover {\n",
              "    background-color: var(--hover-bg-color);\n",
              "    box-shadow: 0 1px 2px rgba(60, 64, 67, 0.3), 0 1px 3px 1px rgba(60, 64, 67, 0.15);\n",
              "    fill: var(--button-hover-fill-color);\n",
              "  }\n",
              "\n",
              "  .colab-df-quickchart-complete:disabled,\n",
              "  .colab-df-quickchart-complete:disabled:hover {\n",
              "    background-color: var(--disabled-bg-color);\n",
              "    fill: var(--disabled-fill-color);\n",
              "    box-shadow: none;\n",
              "  }\n",
              "\n",
              "  .colab-df-spinner {\n",
              "    border: 2px solid var(--fill-color);\n",
              "    border-color: transparent;\n",
              "    border-bottom-color: var(--fill-color);\n",
              "    animation:\n",
              "      spin 1s steps(1) infinite;\n",
              "  }\n",
              "\n",
              "  @keyframes spin {\n",
              "    0% {\n",
              "      border-color: transparent;\n",
              "      border-bottom-color: var(--fill-color);\n",
              "      border-left-color: var(--fill-color);\n",
              "    }\n",
              "    20% {\n",
              "      border-color: transparent;\n",
              "      border-left-color: var(--fill-color);\n",
              "      border-top-color: var(--fill-color);\n",
              "    }\n",
              "    30% {\n",
              "      border-color: transparent;\n",
              "      border-left-color: var(--fill-color);\n",
              "      border-top-color: var(--fill-color);\n",
              "      border-right-color: var(--fill-color);\n",
              "    }\n",
              "    40% {\n",
              "      border-color: transparent;\n",
              "      border-right-color: var(--fill-color);\n",
              "      border-top-color: var(--fill-color);\n",
              "    }\n",
              "    60% {\n",
              "      border-color: transparent;\n",
              "      border-right-color: var(--fill-color);\n",
              "    }\n",
              "    80% {\n",
              "      border-color: transparent;\n",
              "      border-right-color: var(--fill-color);\n",
              "      border-bottom-color: var(--fill-color);\n",
              "    }\n",
              "    90% {\n",
              "      border-color: transparent;\n",
              "      border-bottom-color: var(--fill-color);\n",
              "    }\n",
              "  }\n",
              "</style>\n",
              "\n",
              "      <script>\n",
              "        async function quickchart(key) {\n",
              "          const quickchartButtonEl =\n",
              "            document.querySelector('#' + key + ' button');\n",
              "          quickchartButtonEl.disabled = true;  // To prevent multiple clicks.\n",
              "          quickchartButtonEl.classList.add('colab-df-spinner');\n",
              "          try {\n",
              "            const charts = await google.colab.kernel.invokeFunction(\n",
              "                'suggestCharts', [key], {});\n",
              "          } catch (error) {\n",
              "            console.error('Error during call to suggestCharts:', error);\n",
              "          }\n",
              "          quickchartButtonEl.classList.remove('colab-df-spinner');\n",
              "          quickchartButtonEl.classList.add('colab-df-quickchart-complete');\n",
              "        }\n",
              "        (() => {\n",
              "          let quickchartButtonEl =\n",
              "            document.querySelector('#df-6d1e2f8e-4780-43df-843f-91aa568b0dcc button');\n",
              "          quickchartButtonEl.style.display =\n",
              "            google.colab.kernel.accessAllowed ? 'block' : 'none';\n",
              "        })();\n",
              "      </script>\n",
              "    </div>\n",
              "\n",
              "    </div>\n",
              "  </div>\n"
            ],
            "application/vnd.google.colaboratory.intrinsic+json": {
              "type": "dataframe",
              "variable_name": "df",
              "summary": "{\n  \"name\": \"df\",\n  \"rows\": 340,\n  \"fields\": [\n    {\n      \"column\": \"review\",\n      \"properties\": {\n        \"dtype\": \"category\",\n        \"num_unique_values\": 60,\n        \"samples\": [\n          \"Todo bien, pero podr\\u00eda mejorar el empaque.\",\n          \"El producto lleg\\u00f3 roto y con mala presentaci\\u00f3n.\",\n          \"Muy amable y agradable todo gracias al camarero Iker, con este dia de lluvia nos ha buscado el mejor sitio posible y acogedor para unos cuantos amigos. Muy recomendable!! Volveremos\\ud83d\\ude0aM\\u00e1s\"\n        ],\n        \"semantic_type\": \"\",\n        \"description\": \"\"\n      }\n    },\n    {\n      \"column\": \"sentimiento\",\n      \"properties\": {\n        \"dtype\": \"category\",\n        \"num_unique_values\": 3,\n        \"samples\": [\n          \"neutral\",\n          \"positivo\",\n          \"negativo\"\n        ],\n        \"semantic_type\": \"\",\n        \"description\": \"\"\n      }\n    },\n    {\n      \"column\": \"texto_proc\",\n      \"properties\": {\n        \"dtype\": \"category\",\n        \"num_unique_values\": 60,\n        \"samples\": [\n          \"Todo bien, pero podr\\u00eda mejorar el empaque.\",\n          \"El producto lleg\\u00f3 roto y con mala presentaci\\u00f3n.\",\n          \"Muy amable y agradable todo gracias al camarero Iker, con este dia de lluvia nos ha buscado el mejor sitio posible y acogedor para unos cuantos amigos. Muy recomendable!! Volveremos\\ud83d\\ude0aM\\u00e1s\"\n        ],\n        \"semantic_type\": \"\",\n        \"description\": \"\"\n      }\n    }\n  ]\n}"
            }
          },
          "metadata": {},
          "execution_count": 5
        }
      ]
    },
    {
      "cell_type": "markdown",
      "source": [
        "Explicación:\n",
        "Aquí usamos una limpieza mínima (solo quitar espacios) porque TfidfVectorizer ya:\n",
        "\n",
        "convierte a minúsculas,\n",
        "\n",
        "tokeniza,\n",
        "\n",
        "elimina signos y caracteres especiales.\n"
      ],
      "metadata": {
        "id": "5cDojldc9klP"
      }
    },
    {
      "cell_type": "markdown",
      "source": [
        "4. División de datos (entrenamiento / prueba)"
      ],
      "metadata": {
        "id": "2707GeuP9ow5"
      }
    },
    {
      "cell_type": "code",
      "source": [
        "X = df[\"texto_proc\"].values\n",
        "y = df[COL_LABEL].values\n",
        "\n",
        "# Dividimos los datos (70% entrenamiento, 30% prueba)\n",
        "X_train, X_test, y_train, y_test = train_test_split(\n",
        "    X, y, test_size=0.3, random_state=42, stratify=y\n",
        ")\n",
        "\n",
        "print(\" Datos divididos correctamente\")\n",
        "print(\"Tamaño entrenamiento:\", len(X_train))\n",
        "print(\"Tamaño prueba:\", len(X_test))\n"
      ],
      "metadata": {
        "colab": {
          "base_uri": "https://localhost:8080/"
        },
        "id": "ncV4vrcp9qDC",
        "outputId": "6b467cf7-232e-48bb-bfab-10f6432e5702"
      },
      "execution_count": 6,
      "outputs": [
        {
          "output_type": "stream",
          "name": "stdout",
          "text": [
            " Datos divididos correctamente\n",
            "Tamaño entrenamiento: 238\n",
            "Tamaño prueba: 102\n"
          ]
        }
      ]
    },
    {
      "cell_type": "markdown",
      "source": [
        "Explicación:\n",
        "\n",
        "stratify=y asegura que las proporciones de clases se mantengan iguales en train/test.\n",
        "\n",
        "Esto evita que el modelo se entrene con más positivos o negativos de lo real."
      ],
      "metadata": {
        "id": "hZ0jMZMS9rtZ"
      }
    },
    {
      "cell_type": "markdown",
      "source": [
        "5. Vectorización TF-IDF + Modelo Naive Bayes"
      ],
      "metadata": {
        "id": "Jb9_vVTR9sYp"
      }
    },
    {
      "cell_type": "code",
      "source": [
        "# Creamos el pipeline completo\n",
        "modelo = Pipeline([\n",
        "    (\"tfidf\", TfidfVectorizer(max_features=2000, ngram_range=(1, 2), min_df=2)),\n",
        "    (\"clf\", MultinomialNB())\n",
        "])\n",
        "\n",
        "# Entrenamos el modelo\n",
        "modelo.fit(X_train, y_train)\n",
        "print(\" Modelo entrenado correctamente\")\n"
      ],
      "metadata": {
        "colab": {
          "base_uri": "https://localhost:8080/"
        },
        "id": "qZwEN0-M9xN2",
        "outputId": "41e6f119-deb5-4694-c46e-357575cab711"
      },
      "execution_count": 7,
      "outputs": [
        {
          "output_type": "stream",
          "name": "stdout",
          "text": [
            " Modelo entrenado correctamente\n"
          ]
        }
      ]
    },
    {
      "cell_type": "markdown",
      "source": [
        "Explicación:\n",
        "\n",
        "TfidfVectorizer convierte el texto en vectores numéricos ponderados por frecuencia e importancia.\n",
        "\n",
        "ngram_range=(1,2) incluye combinaciones de una y dos palabras (p. ej. “muy bueno”, “no gustó”).\n",
        "\n",
        "MultinomialNB es rápido, simple y muy eficaz para texto."
      ],
      "metadata": {
        "id": "Nv4-BCH19yVC"
      }
    },
    {
      "cell_type": "markdown",
      "source": [
        "6. Evaluación del modelo"
      ],
      "metadata": {
        "id": "GPQ7T2y_90xM"
      }
    },
    {
      "cell_type": "code",
      "source": [
        "# Predicciones\n",
        "y_pred = modelo.predict(X_test)\n",
        "\n",
        "# Métricas básicas\n",
        "acc = accuracy_score(y_test, y_pred)\n",
        "print(f\" Accuracy: {acc:.3f}\\n\")\n",
        "\n",
        "print(\" Classification report:\")\n",
        "print(classification_report(y_test, y_pred))\n",
        "\n",
        "# Matriz de confusión\n",
        "cm = confusion_matrix(y_test, y_pred, labels=np.unique(y))\n",
        "disp = ConfusionMatrixDisplay(confusion_matrix=cm, display_labels=np.unique(y))\n",
        "\n",
        "fig, ax = plt.subplots(figsize=(5, 4))\n",
        "disp.plot(ax=ax, cmap=\"Blues\")\n",
        "plt.title(\"Matriz de confusión — Conjunto de prueba\")\n",
        "plt.tight_layout()\n",
        "plt.show()\n"
      ],
      "metadata": {
        "colab": {
          "base_uri": "https://localhost:8080/",
          "height": 633
        },
        "id": "1jZBwPB79x5Y",
        "outputId": "162e3a21-7bd7-4304-d3ce-a91713226930"
      },
      "execution_count": 8,
      "outputs": [
        {
          "output_type": "stream",
          "name": "stdout",
          "text": [
            " Accuracy: 0.951\n",
            "\n",
            " Classification report:\n",
            "              precision    recall  f1-score   support\n",
            "\n",
            "    negativo       1.00      0.94      0.97        31\n",
            "     neutral       1.00      0.90      0.95        31\n",
            "    positivo       0.89      1.00      0.94        40\n",
            "\n",
            "    accuracy                           0.95       102\n",
            "   macro avg       0.96      0.95      0.95       102\n",
            "weighted avg       0.96      0.95      0.95       102\n",
            "\n"
          ]
        },
        {
          "output_type": "display_data",
          "data": {
            "text/plain": [
              "<Figure size 500x400 with 2 Axes>"
            ],
            "image/png": "[encoded data removed]"
          },
          "metadata": {}
        }
      ]
    },
    {
      "cell_type": "markdown",
      "source": [
        "Explicación:\n",
        "\n",
        "Accuracy: proporción global de aciertos.\n",
        "\n",
        "Classification report: precisión, recall y F1 por clase.\n",
        "\n",
        "Matriz de confusión: muestra visualmente qué tan bien clasifica cada sentimiento."
      ],
      "metadata": {
        "id": "1NrUpepI94ZI"
      }
    },
    {
      "cell_type": "markdown",
      "source": [
        "7. Visualización comparativa (reales vs. predichos)"
      ],
      "metadata": {
        "id": "8VEOGevy95CB"
      }
    },
    {
      "cell_type": "code",
      "source": [
        "# Conteo de clases reales y predichas\n",
        "vals_true = pd.Series(y_test).value_counts().sort_index()\n",
        "vals_pred = pd.Series(y_pred).value_counts().reindex(vals_true.index).fillna(0)\n",
        "\n",
        "clases = vals_true.index.astype(str)\n",
        "x = np.arange(len(clases))\n",
        "width = 0.35\n",
        "\n",
        "fig, ax = plt.subplots(figsize=(6, 4))\n",
        "ax.bar(x - width/2, vals_true.values, width, label=\"Real\", color=\"#4a90e2\")\n",
        "ax.bar(x + width/2, vals_pred.values, width, label=\"Predicho\", color=\"#f5a623\")\n",
        "\n",
        "ax.set_title(\"Distribución de sentimientos (real vs. predicho)\")\n",
        "ax.set_xlabel(\"Clase\")\n",
        "ax.set_ylabel(\"Frecuencia\")\n",
        "ax.set_xticks(x)\n",
        "ax.set_xticklabels(clases)\n",
        "ax.legend()\n",
        "plt.tight_layout()\n",
        "plt.show()\n"
      ],
      "metadata": {
        "colab": {
          "base_uri": "https://localhost:8080/",
          "height": 407
        },
        "id": "9_UVk8EI97WN",
        "outputId": "7d3cc4ee-0063-4f04-bc8e-0f78b6a06afb"
      },
      "execution_count": 9,
      "outputs": [
        {
          "output_type": "display_data",
          "data": {
            "text/plain": [
              "<Figure size 600x400 with 1 Axes>"
            ],
            "image/png": "[encoded data removed]"
          },
          "metadata": {}
        }
      ]
    },
    {
      "cell_type": "markdown",
      "source": [
        "Explicación:\n",
        "Visualiza si el modelo predice de forma equilibrada entre clases o tiende a sobreclasificar una categoría."
      ],
      "metadata": {
        "id": "q_hoTBey983L"
      }
    },
    {
      "cell_type": "markdown",
      "source": [
        "8. Predicción rápida (demo)"
      ],
      "metadata": {
        "id": "Mr5jtfbZ9-wQ"
      }
    },
    {
      "cell_type": "code",
      "source": [
        "# Prueba con una opinión nueva\n",
        "nuevo = \"El servicio fue lento y el producto llegó en mal estado.\"\n",
        "pred = modelo.predict([nuevo])[0]\n",
        "\n",
        "print(\" Comentario:\", nuevo)\n",
        "print(\" Predicción del modelo:\", pred.upper())\n"
      ],
      "metadata": {
        "colab": {
          "base_uri": "https://localhost:8080/"
        },
        "id": "6cQ3dgZP-AxH",
        "outputId": "7e14dc44-1474-4e7b-b47d-d5c7da81729e"
      },
      "execution_count": 10,
      "outputs": [
        {
          "output_type": "stream",
          "name": "stdout",
          "text": [
            " Comentario: El servicio fue lento y el producto llegó en mal estado.\n",
            " Predicción del modelo: NEUTRAL\n"
          ]
        }
      ]
    },
    {
      "cell_type": "markdown",
      "source": [
        "Conclusión — Modelo básico (sin lematización)\n",
        "\n",
        "En esta etapa construimos un modelo completo de análisis de sentimientos aplicando técnicas básicas de Procesamiento de Lenguaje Natural (NLP).\n",
        "Mediante el uso de TF-IDF y el clasificador Naive Bayes, el sistema logró transformar textos en vectores numéricos y clasificar opiniones como positivas, negativas o neutras con resultados satisfactorios.\n",
        "\n",
        "El desempeño general fue adecuado: el modelo identifica correctamente la mayoría de los casos, aunque puede confundir frases mixtas o ambiguas.\n",
        "Esto ocurre porque, al no usar lematización ni un análisis semántico profundo, TF-IDF se basa únicamente en la frecuencia de las palabras.\n",
        "\n",
        "En síntesis, este modelo demuestra la eficacia de un enfoque simple y transparente para tareas de clasificación de texto, sirviendo como base sólida para futuras mejoras mediante preprocesamiento avanzado o modelos más complejos."
      ],
      "metadata": {
        "id": "zjC3HXES-DzA"
      }
    },
    {
      "cell_type": "markdown",
      "source": [
        " - OPCIONAL — Preprocesamiento avanzado con spaCy (Lematización + Stopwords)"
      ],
      "metadata": {
        "id": "a_Es2pE6-eOf"
      }
    },
    {
      "cell_type": "code",
      "source": [
        "#  Ejecutar solo si se desea aplicar lematización y filtrado de palabras vacías\n",
        "# Instalar spaCy y el modelo de lenguaje en español (solo la primera vez)\n",
        "!pip install spacy\n",
        "!python -m spacy download es_core_news_sm\n",
        "\n",
        "import spacy\n",
        "from spacy.lang.es.stop_words import STOP_WORDS\n",
        "\n",
        "# Cargar modelo en español\n",
        "nlp = spacy.load(\"es_core_news_sm\")\n",
        "\n",
        "def preprocesar_completo(texto):\n",
        "    \"\"\"\n",
        "    Limpia, pasa a minúsculas, lematiza y elimina stopwords o tokens no alfabéticos.\n",
        "    \"\"\"\n",
        "    doc = nlp(texto.lower())\n",
        "    tokens_limpios = [\n",
        "        token.lemma_ for token in doc\n",
        "        if token.is_alpha and token.text not in STOP_WORDS\n",
        "    ]\n",
        "    return \" \".join(tokens_limpios)\n",
        "\n",
        "# Aplicamos al dataset original\n",
        "df[\"texto_proc_lem\"] = df[COL_TEXTO].apply(preprocesar_completo)\n",
        "df[[\"review\", \"texto_proc_lem\"]].head(5)\n"
      ],
      "metadata": {
        "colab": {
          "base_uri": "https://localhost:8080/",
          "height": 1000
        },
        "id": "8N97fSbc-i0g",
        "outputId": "a717908a-8a50-4dfd-ad0e-f3f187ef2223"
      },
      "execution_count": 11,
      "outputs": [
        {
          "output_type": "stream",
          "name": "stdout",
          "text": [
            "Requirement already satisfied: spacy in /usr/local/lib/python3.12/dist-packages (3.8.7)\n",
            "Requirement already satisfied: spacy-legacy<3.1.0,>=3.0.11 in /usr/local/lib/python3.12/dist-packages (from spacy) (3.0.12)\n",
            "Requirement already satisfied: spacy-loggers<2.0.0,>=1.0.0 in /usr/local/lib/python3.12/dist-packages (from spacy) (1.0.5)\n",
            "Requirement already satisfied: murmurhash<1.1.0,>=0.28.0 in /usr/local/lib/python3.12/dist-packages (from spacy) (1.0.13)\n",
            "Requirement already satisfied: cymem<2.1.0,>=2.0.2 in /usr/local/lib/python3.12/dist-packages (from spacy) (2.0.11)\n",
            "Requirement already satisfied: preshed<3.1.0,>=3.0.2 in /usr/local/lib/python3.12/dist-packages (from spacy) (3.0.10)\n",
            "Requirement already satisfied: thinc<8.4.0,>=8.3.4 in /usr/local/lib/python3.12/dist-packages (from spacy) (8.3.6)\n",
            "Requirement already satisfied: wasabi<1.2.0,>=0.9.1 in /usr/local/lib/python3.12/dist-packages (from spacy) (1.1.3)\n",
            "Requirement already satisfied: srsly<3.0.0,>=2.4.3 in /usr/local/lib/python3.12/dist-packages (from spacy) (2.5.1)\n",
            "Requirement already satisfied: catalogue<2.1.0,>=2.0.6 in /usr/local/lib/python3.12/dist-packages (from spacy) (2.0.10)\n",
            "Requirement already satisfied: weasel<0.5.0,>=0.1.0 in /usr/local/lib/python3.12/dist-packages (from spacy) (0.4.1)\n",
            "Requirement already satisfied: typer<1.0.0,>=0.3.0 in /usr/local/lib/python3.12/dist-packages (from spacy) (0.20.0)\n",
            "Requirement already satisfied: tqdm<5.0.0,>=4.38.0 in /usr/local/lib/python3.12/dist-packages (from spacy) (4.67.1)\n",
            "Requirement already satisfied: numpy>=1.19.0 in /usr/local/lib/python3.12/dist-packages (from spacy) (2.0.2)\n",
            "Requirement already satisfied: requests<3.0.0,>=2.13.0 in /usr/local/lib/python3.12/dist-packages (from spacy) (2.32.4)\n",
            "Requirement already satisfied: pydantic!=1.8,!=1.8.1,<3.0.0,>=1.7.4 in /usr/local/lib/python3.12/dist-packages (from spacy) (2.11.10)\n",
            "Requirement already satisfied: jinja2 in /usr/local/lib/python3.12/dist-packages (from spacy) (3.1.6)\n",
            "Requirement already satisfied: setuptools in /usr/local/lib/python3.12/dist-packages (from spacy) (75.2.0)\n",
            "Requirement already satisfied: packaging>=20.0 in /usr/local/lib/python3.12/dist-packages (from spacy) (25.0)\n",
            "Requirement already satisfied: langcodes<4.0.0,>=3.2.0 in /usr/local/lib/python3.12/dist-packages (from spacy) (3.5.0)\n",
            "Requirement already satisfied: language-data>=1.2 in /usr/local/lib/python3.12/dist-packages (from langcodes<4.0.0,>=3.2.0->spacy) (1.3.0)\n",
            "Requirement already satisfied: annotated-types>=0.6.0 in /usr/local/lib/python3.12/dist-packages (from pydantic!=1.8,!=1.8.1,<3.0.0,>=1.7.4->spacy) (0.7.0)\n",
            "Requirement already satisfied: pydantic-core==2.33.2 in /usr/local/lib/python3.12/dist-packages (from pydantic!=1.8,!=1.8.1,<3.0.0,>=1.7.4->spacy) (2.33.2)\n",
            "Requirement already satisfied: typing-extensions>=4.12.2 in /usr/local/lib/python3.12/dist-packages (from pydantic!=1.8,!=1.8.1,<3.0.0,>=1.7.4->spacy) (4.15.0)\n",
            "Requirement already satisfied: typing-inspection>=0.4.0 in /usr/local/lib/python3.12/dist-packages (from pydantic!=1.8,!=1.8.1,<3.0.0,>=1.7.4->spacy) (0.4.2)\n",
            "Requirement already satisfied: charset_normalizer<4,>=2 in /usr/local/lib/python3.12/dist-packages (from requests<3.0.0,>=2.13.0->spacy) (3.4.4)\n",
            "Requirement already satisfied: idna<4,>=2.5 in /usr/local/lib/python3.12/dist-packages (from requests<3.0.0,>=2.13.0->spacy) (3.11)\n",
            "Requirement already satisfied: urllib3<3,>=1.21.1 in /usr/local/lib/python3.12/dist-packages (from requests<3.0.0,>=2.13.0->spacy) (2.5.0)\n",
            "Requirement already satisfied: certifi>=2017.4.17 in /usr/local/lib/python3.12/dist-packages (from requests<3.0.0,>=2.13.0->spacy) (2025.10.5)\n",
            "Requirement already satisfied: blis<1.4.0,>=1.3.0 in /usr/local/lib/python3.12/dist-packages (from thinc<8.4.0,>=8.3.4->spacy) (1.3.0)\n",
            "Requirement already satisfied: confection<1.0.0,>=0.0.1 in /usr/local/lib/python3.12/dist-packages (from thinc<8.4.0,>=8.3.4->spacy) (0.1.5)\n",
            "Requirement already satisfied: click>=8.0.0 in /usr/local/lib/python3.12/dist-packages (from typer<1.0.0,>=0.3.0->spacy) (8.3.0)\n",
            "Requirement already satisfied: shellingham>=1.3.0 in /usr/local/lib/python3.12/dist-packages (from typer<1.0.0,>=0.3.0->spacy) (1.5.4)\n",
            "Requirement already satisfied: rich>=10.11.0 in /usr/local/lib/python3.12/dist-packages (from typer<1.0.0,>=0.3.0->spacy) (13.9.4)\n",
            "Requirement already satisfied: cloudpathlib<1.0.0,>=0.7.0 in /usr/local/lib/python3.12/dist-packages (from weasel<0.5.0,>=0.1.0->spacy) (0.23.0)\n",
            "Requirement already satisfied: smart-open<8.0.0,>=5.2.1 in /usr/local/lib/python3.12/dist-packages (from weasel<0.5.0,>=0.1.0->spacy) (7.4.0)\n",
            "Requirement already satisfied: MarkupSafe>=2.0 in /usr/local/lib/python3.12/dist-packages (from jinja2->spacy) (3.0.3)\n",
            "Requirement already satisfied: marisa-trie>=1.1.0 in /usr/local/lib/python3.12/dist-packages (from language-data>=1.2->langcodes<4.0.0,>=3.2.0->spacy) (1.3.1)\n",
            "Requirement already satisfied: markdown-it-py>=2.2.0 in /usr/local/lib/python3.12/dist-packages (from rich>=10.11.0->typer<1.0.0,>=0.3.0->spacy) (4.0.0)\n",
            "Requirement already satisfied: pygments<3.0.0,>=2.13.0 in /usr/local/lib/python3.12/dist-packages (from rich>=10.11.0->typer<1.0.0,>=0.3.0->spacy) (2.19.2)\n",
            "Requirement already satisfied: wrapt in /usr/local/lib/python3.12/dist-packages (from smart-open<8.0.0,>=5.2.1->weasel<0.5.0,>=0.1.0->spacy) (2.0.0)\n",
            "Requirement already satisfied: mdurl~=0.1 in /usr/local/lib/python3.12/dist-packages (from markdown-it-py>=2.2.0->rich>=10.11.0->typer<1.0.0,>=0.3.0->spacy) (0.1.2)\n",
            "Collecting es-core-news-sm==3.8.0\n",
            "  Downloading https://github.com/explosion/spacy-models/releases/download/es_core_news_sm-3.8.0/es_core_news_sm-3.8.0-py3-none-any.whl (12.9 MB)\n",
            "\u001b[2K     \u001b[90m━━━━━━━━━━━━━━━━━━━━━━━━━━━━━━━━━━━━━━━━\u001b[0m \u001b[32m12.9/12.9 MB\u001b[0m \u001b[31m65.0 MB/s\u001b[0m eta \u001b[36m0:00:00\u001b[0m\n",
            "\u001b[?25hInstalling collected packages: es-core-news-sm\n",
            "Successfully installed es-core-news-sm-3.8.0\n",
            "\u001b[38;5;2m✔ Download and installation successful\u001b[0m\n",
            "You can now load the package via spacy.load('es_core_news_sm')\n",
            "\u001b[38;5;3m⚠ Restart to reload dependencies\u001b[0m\n",
            "If you are in a Jupyter or Colab notebook, you may need to restart Python in\n",
            "order to load all the package's dependencies. You can do this by selecting the\n",
            "'Restart kernel' or 'Restart runtime' option.\n"
          ]
        },
        {
          "output_type": "execute_result",
          "data": {
            "text/plain": [
              "                                                  review  \\\n",
              "0             Todo bien, pero podría mejorar el empaque.   \n",
              "1         Todo salió bien, muy satisfecho con la compra.   \n",
              "2  Me encantó el producto, cumple con todo lo prometido.   \n",
              "3                     El trato fue amable y profesional.   \n",
              "4  Me encantó el producto, cumple con todo lo prometido.   \n",
              "\n",
              "                        texto_proc_lem  \n",
              "0                      mejorar empaque  \n",
              "1              salir satisfecho compra  \n",
              "2  encantar producto cumplir prometido  \n",
              "3             trato amable profesional  \n",
              "4  encantar producto cumplir prometido  "
            ],
            "text/html": [
              "\n",
              "  <div id=\"df-82df7c29-8c50-45c4-9f79-ca0afdc77304\" class=\"colab-df-container\">\n",
              "    <div>\n",
              "<style scoped>\n",
              "    .dataframe tbody tr th:only-of-type {\n",
              "        vertical-align: middle;\n",
              "    }\n",
              "\n",
              "    .dataframe tbody tr th {\n",
              "        vertical-align: top;\n",
              "    }\n",
              "\n",
              "    .dataframe thead th {\n",
              "        text-align: right;\n",
              "    }\n",
              "</style>\n",
              "<table border=\"1\" class=\"dataframe\">\n",
              "  <thead>\n",
              "    <tr style=\"text-align: right;\">\n",
              "      <th></th>\n",
              "      <th>review</th>\n",
              "      <th>texto_proc_lem</th>\n",
              "    </tr>\n",
              "  </thead>\n",
              "  <tbody>\n",
              "    <tr>\n",
              "      <th>0</th>\n",
              "      <td>Todo bien, pero podría mejorar el empaque.</td>\n",
              "      <td>mejorar empaque</td>\n",
              "    </tr>\n",
              "    <tr>\n",
              "      <th>1</th>\n",
              "      <td>Todo salió bien, muy satisfecho con la compra.</td>\n",
              "      <td>salir satisfecho compra</td>\n",
              "    </tr>\n",
              "    <tr>\n",
              "      <th>2</th>\n",
              "      <td>Me encantó el producto, cumple con todo lo prometido.</td>\n",
              "      <td>encantar producto cumplir prometido</td>\n",
              "    </tr>\n",
              "    <tr>\n",
              "      <th>3</th>\n",
              "      <td>El trato fue amable y profesional.</td>\n",
              "      <td>trato amable profesional</td>\n",
              "    </tr>\n",
              "    <tr>\n",
              "      <th>4</th>\n",
              "      <td>Me encantó el producto, cumple con todo lo prometido.</td>\n",
              "      <td>encantar producto cumplir prometido</td>\n",
              "    </tr>\n",
              "  </tbody>\n",
              "</table>\n",
              "</div>\n",
              "    <div class=\"colab-df-buttons\">\n",
              "\n",
              "  <div class=\"colab-df-container\">\n",
              "    <button class=\"colab-df-convert\" onclick=\"convertToInteractive('df-82df7c29-8c50-45c4-9f79-ca0afdc77304')\"\n",
              "            title=\"Convert this dataframe to an interactive table.\"\n",
              "            style=\"display:none;\">\n",
              "\n",
              "  <svg xmlns=\"http://www.w3.org/2000/svg\" height=\"24px\" viewBox=\"0 -960 960 960\">\n",
              "    <path d=\"M120-120v-720h720v720H120Zm60-500h600v-160H180v160Zm220 220h160v-160H400v160Zm0 220h160v-160H400v160ZM180-400h160v-160H180v160Zm440 0h160v-160H620v160ZM180-180h160v-160H180v160Zm440 0h160v-160H620v160Z\"/>\n",
              "  </svg>\n",
              "    </button>\n",
              "\n",
              "  <style>\n",
              "    .colab-df-container {\n",
              "      display:flex;\n",
              "      gap: 12px;\n",
              "    }\n",
              "\n",
              "    .colab-df-convert {\n",
              "      background-color: #E8F0FE;\n",
              "      border: none;\n",
              "      border-radius: 50%;\n",
              "      cursor: pointer;\n",
              "      display: none;\n",
              "      fill: #1967D2;\n",
              "      height: 32px;\n",
              "      padding: 0 0 0 0;\n",
              "      width: 32px;\n",
              "    }\n",
              "\n",
              "    .colab-df-convert:hover {\n",
              "      background-color: #E2EBFA;\n",
              "      box-shadow: 0px 1px 2px rgba(60, 64, 67, 0.3), 0px 1px 3px 1px rgba(60, 64, 67, 0.15);\n",
              "      fill: #174EA6;\n",
              "    }\n",
              "\n",
              "    .colab-df-buttons div {\n",
              "      margin-bottom: 4px;\n",
              "    }\n",
              "\n",
              "    [theme=dark] .colab-df-convert {\n",
              "      background-color: #3B4455;\n",
              "      fill: #D2E3FC;\n",
              "    }\n",
              "\n",
              "    [theme=dark] .colab-df-convert:hover {\n",
              "      background-color: #434B5C;\n",
              "      box-shadow: 0px 1px 3px 1px rgba(0, 0, 0, 0.15);\n",
              "      filter: drop-shadow(0px 1px 2px rgba(0, 0, 0, 0.3));\n",
              "      fill: #FFFFFF;\n",
              "    }\n",
              "  </style>\n",
              "\n",
              "    <script>\n",
              "      const buttonEl =\n",
              "        document.querySelector('#df-82df7c29-8c50-45c4-9f79-ca0afdc77304 button.colab-df-convert');\n",
              "      buttonEl.style.display =\n",
              "        google.colab.kernel.accessAllowed ? 'block' : 'none';\n",
              "\n",
              "      async function convertToInteractive(key) {\n",
              "        const element = document.querySelector('#df-82df7c29-8c50-45c4-9f79-ca0afdc77304');\n",
              "        const dataTable =\n",
              "          await google.colab.kernel.invokeFunction('convertToInteractive',\n",
              "                                                    [key], {});\n",
              "        if (!dataTable) return;\n",
              "\n",
              "        const docLinkHtml = 'Like what you see? Visit the ' +\n",
              "          '<a target=\"_blank\" href=https://colab.research.google.com/notebooks/data_table.ipynb>data table notebook</a>'\n",
              "          + ' to learn more about interactive tables.';\n",
              "        element.innerHTML = '';\n",
              "        dataTable['output_type'] = 'display_data';\n",
              "        await google.colab.output.renderOutput(dataTable, element);\n",
              "        const docLink = document.createElement('div');\n",
              "        docLink.innerHTML = docLinkHtml;\n",
              "        element.appendChild(docLink);\n",
              "      }\n",
              "    </script>\n",
              "  </div>\n",
              "\n",
              "\n",
              "    <div id=\"df-589172c1-8bfc-4d3c-890b-fa153dbecac0\">\n",
              "      <button class=\"colab-df-quickchart\" onclick=\"quickchart('df-589172c1-8bfc-4d3c-890b-fa153dbecac0')\"\n",
              "                title=\"Suggest charts\"\n",
              "                style=\"display:none;\">\n",
              "\n",
              "<svg xmlns=\"http://www.w3.org/2000/svg\" height=\"24px\"viewBox=\"0 0 24 24\"\n",
              "     width=\"24px\">\n",
              "    <g>\n",
              "        <path d=\"M19 3H5c-1.1 0-2 .9-2 2v14c0 1.1.9 2 2 2h14c1.1 0 2-.9 2-2V5c0-1.1-.9-2-2-2zM9 17H7v-7h2v7zm4 0h-2V7h2v10zm4 0h-2v-4h2v4z\"/>\n",
              "    </g>\n",
              "</svg>\n",
              "      </button>\n",
              "\n",
              "<style>\n",
              "  .colab-df-quickchart {\n",
              "      --bg-color: #E8F0FE;\n",
              "      --fill-color: #1967D2;\n",
              "      --hover-bg-color: #E2EBFA;\n",
              "      --hover-fill-color: #174EA6;\n",
              "      --disabled-fill-color: #AAA;\n",
              "      --disabled-bg-color: #DDD;\n",
              "  }\n",
              "\n",
              "  [theme=dark] .colab-df-quickchart {\n",
              "      --bg-color: #3B4455;\n",
              "      --fill-color: #D2E3FC;\n",
              "      --hover-bg-color: #434B5C;\n",
              "      --hover-fill-color: #FFFFFF;\n",
              "      --disabled-bg-color: #3B4455;\n",
              "      --disabled-fill-color: #666;\n",
              "  }\n",
              "\n",
              "  .colab-df-quickchart {\n",
              "    background-color: var(--bg-color);\n",
              "    border: none;\n",
              "    border-radius: 50%;\n",
              "    cursor: pointer;\n",
              "    display: none;\n",
              "    fill: var(--fill-color);\n",
              "    height: 32px;\n",
              "    padding: 0;\n",
              "    width: 32px;\n",
              "  }\n",
              "\n",
              "  .colab-df-quickchart:hover {\n",
              "    background-color: var(--hover-bg-color);\n",
              "    box-shadow: 0 1px 2px rgba(60, 64, 67, 0.3), 0 1px 3px 1px rgba(60, 64, 67, 0.15);\n",
              "    fill: var(--button-hover-fill-color);\n",
              "  }\n",
              "\n",
              "  .colab-df-quickchart-complete:disabled,\n",
              "  .colab-df-quickchart-complete:disabled:hover {\n",
              "    background-color: var(--disabled-bg-color);\n",
              "    fill: var(--disabled-fill-color);\n",
              "    box-shadow: none;\n",
              "  }\n",
              "\n",
              "  .colab-df-spinner {\n",
              "    border: 2px solid var(--fill-color);\n",
              "    border-color: transparent;\n",
              "    border-bottom-color: var(--fill-color);\n",
              "    animation:\n",
              "      spin 1s steps(1) infinite;\n",
              "  }\n",
              "\n",
              "  @keyframes spin {\n",
              "    0% {\n",
              "      border-color: transparent;\n",
              "      border-bottom-color: var(--fill-color);\n",
              "      border-left-color: var(--fill-color);\n",
              "    }\n",
              "    20% {\n",
              "      border-color: transparent;\n",
              "      border-left-color: var(--fill-color);\n",
              "      border-top-color: var(--fill-color);\n",
              "    }\n",
              "    30% {\n",
              "      border-color: transparent;\n",
              "      border-left-color: var(--fill-color);\n",
              "      border-top-color: var(--fill-color);\n",
              "      border-right-color: var(--fill-color);\n",
              "    }\n",
              "    40% {\n",
              "      border-color: transparent;\n",
              "      border-right-color: var(--fill-color);\n",
              "      border-top-color: var(--fill-color);\n",
              "    }\n",
              "    60% {\n",
              "      border-color: transparent;\n",
              "      border-right-color: var(--fill-color);\n",
              "    }\n",
              "    80% {\n",
              "      border-color: transparent;\n",
              "      border-right-color: var(--fill-color);\n",
              "      border-bottom-color: var(--fill-color);\n",
              "    }\n",
              "    90% {\n",
              "      border-color: transparent;\n",
              "      border-bottom-color: var(--fill-color);\n",
              "    }\n",
              "  }\n",
              "</style>\n",
              "\n",
              "      <script>\n",
              "        async function quickchart(key) {\n",
              "          const quickchartButtonEl =\n",
              "            document.querySelector('#' + key + ' button');\n",
              "          quickchartButtonEl.disabled = true;  // To prevent multiple clicks.\n",
              "          quickchartButtonEl.classList.add('colab-df-spinner');\n",
              "          try {\n",
              "            const charts = await google.colab.kernel.invokeFunction(\n",
              "                'suggestCharts', [key], {});\n",
              "          } catch (error) {\n",
              "            console.error('Error during call to suggestCharts:', error);\n",
              "          }\n",
              "          quickchartButtonEl.classList.remove('colab-df-spinner');\n",
              "          quickchartButtonEl.classList.add('colab-df-quickchart-complete');\n",
              "        }\n",
              "        (() => {\n",
              "          let quickchartButtonEl =\n",
              "            document.querySelector('#df-589172c1-8bfc-4d3c-890b-fa153dbecac0 button');\n",
              "          quickchartButtonEl.style.display =\n",
              "            google.colab.kernel.accessAllowed ? 'block' : 'none';\n",
              "        })();\n",
              "      </script>\n",
              "    </div>\n",
              "\n",
              "    </div>\n",
              "  </div>\n"
            ],
            "application/vnd.google.colaboratory.intrinsic+json": {
              "type": "dataframe",
              "summary": "{\n  \"name\": \"df[[\\\"review\\\", \\\"texto_proc_lem\\\"]]\",\n  \"rows\": 5,\n  \"fields\": [\n    {\n      \"column\": \"review\",\n      \"properties\": {\n        \"dtype\": \"string\",\n        \"num_unique_values\": 4,\n        \"samples\": [\n          \"Todo sali\\u00f3 bien, muy satisfecho con la compra.\",\n          \"El trato fue amable y profesional.\",\n          \"Todo bien, pero podr\\u00eda mejorar el empaque.\"\n        ],\n        \"semantic_type\": \"\",\n        \"description\": \"\"\n      }\n    },\n    {\n      \"column\": \"texto_proc_lem\",\n      \"properties\": {\n        \"dtype\": \"string\",\n        \"num_unique_values\": 4,\n        \"samples\": [\n          \"salir satisfecho compra\",\n          \"trato amable profesional\",\n          \"mejorar empaque\"\n        ],\n        \"semantic_type\": \"\",\n        \"description\": \"\"\n      }\n    }\n  ]\n}"
            }
          },
          "metadata": {},
          "execution_count": 11
        }
      ]
    },
    {
      "cell_type": "markdown",
      "source": [
        "Explicación:\n",
        "\n",
        "token.lemma_ devuelve la raíz o forma canónica de cada palabra (“mejores” → “mejor”).\n",
        "\n",
        "Se eliminan stopwords (palabras sin carga semántica como “el”, “la”, “que”).\n",
        "\n",
        "is_alpha filtra tokens alfabéticos (sin números ni signos)."
      ],
      "metadata": {
        "id": "zN3sjhhu-oc0"
      }
    },
    {
      "cell_type": "markdown",
      "source": [
        "Entrenamiento con el texto lematizado (versión mejorada)"
      ],
      "metadata": {
        "id": "7wVU2ZBF-rOr"
      }
    },
    {
      "cell_type": "code",
      "source": [
        "# Entrenamos el mismo modelo pero con la columna 'texto_proc_lem'\n",
        "X_lem = df[\"texto_proc_lem\"].values\n",
        "y_lem = df[COL_LABEL].values\n",
        "\n",
        "X_train, X_test, y_train, y_test = train_test_split(\n",
        "    X_lem, y_lem, test_size=0.3, random_state=42, stratify=y_lem\n",
        ")\n",
        "\n",
        "modelo_lem = Pipeline([\n",
        "    (\"tfidf\", TfidfVectorizer(max_features=2000, ngram_range=(1, 2), min_df=2)),\n",
        "    (\"clf\", MultinomialNB())\n",
        "])\n",
        "\n",
        "modelo_lem.fit(X_train, y_train)\n",
        "y_pred_lem = modelo_lem.predict(X_test)\n",
        "\n",
        "print(\"✅ Modelo entrenado con texto lematizado\\n\")\n",
        "print(f\"Accuracy: {accuracy_score(y_test, y_pred_lem):.3f}\")\n",
        "print(classification_report(y_test, y_pred_lem))\n"
      ],
      "metadata": {
        "colab": {
          "base_uri": "https://localhost:8080/"
        },
        "id": "l8OkxOYo-wZy",
        "outputId": "35f0740a-e7a5-436c-e0a4-2d03f67cede8"
      },
      "execution_count": 12,
      "outputs": [
        {
          "output_type": "stream",
          "name": "stdout",
          "text": [
            "✅ Modelo entrenado con texto lematizado\n",
            "\n",
            "Accuracy: 0.951\n",
            "              precision    recall  f1-score   support\n",
            "\n",
            "    negativo       1.00      0.94      0.97        31\n",
            "     neutral       1.00      0.90      0.95        31\n",
            "    positivo       0.89      1.00      0.94        40\n",
            "\n",
            "    accuracy                           0.95       102\n",
            "   macro avg       0.96      0.95      0.95       102\n",
            "weighted avg       0.96      0.95      0.95       102\n",
            "\n"
          ]
        }
      ]
    },
    {
      "cell_type": "markdown",
      "source": [
        "Explicación:\n",
        "Esta versión del modelo utiliza texto más limpio y generalizado, lo que suele mejorar la precisión y robustez especialmente si hay sinónimos o conjugaciones diferentes."
      ],
      "metadata": {
        "id": "bRy0J93A-yf6"
      }
    },
    {
      "cell_type": "code",
      "source": [
        "# 📊 Matriz de confusión para el modelo lematizado\n",
        "from sklearn.metrics import ConfusionMatrixDisplay\n",
        "\n",
        "cm_lem = confusion_matrix(y_test, y_pred_lem, labels=np.unique(y_lem))\n",
        "disp_lem = ConfusionMatrixDisplay(confusion_matrix=cm_lem, display_labels=np.unique(y_lem))\n",
        "\n",
        "fig, ax = plt.subplots(figsize=(5, 4))\n",
        "disp_lem.plot(ax=ax, cmap=\"Greens\")\n",
        "plt.title(\"Matriz de confusión — Modelo con texto lematizado\")\n",
        "plt.tight_layout()\n",
        "plt.show()\n",
        "\n",
        "# 🔍 Comparación rápida de accuracies\n",
        "acc_basico = accuracy_score(y_test, y_pred)  # del modelo anterior sin lematizar\n",
        "acc_lem = accuracy_score(y_test, y_pred_lem)\n",
        "\n",
        "print(f\"Accuracy modelo básico:     {acc_basico:.3f}\")\n",
        "print(f\"Accuracy modelo lematizado: {acc_lem:.3f}\")\n"
      ],
      "metadata": {
        "colab": {
          "base_uri": "https://localhost:8080/",
          "height": 442
        },
        "id": "h3aUNUDp-_4I",
        "outputId": "1f325e9f-c3e0-4d0e-bc1c-b49a613174bb"
      },
      "execution_count": 13,
      "outputs": [
        {
          "output_type": "display_data",
          "data": {
            "text/plain": [
              "<Figure size 500x400 with 2 Axes>"
            ],
            "image/png": "[encoded data removed]"
          },
          "metadata": {}
        },
        {
          "output_type": "stream",
          "name": "stdout",
          "text": [
            "Accuracy modelo básico:     0.951\n",
            "Accuracy modelo lematizado: 0.951\n"
          ]
        }
      ]
    },
    {
      "cell_type": "markdown",
      "source": [
        "- que muestra el codigo:\n",
        "Muestra la matriz de confusión del modelo lematizado (para comparar visualmente).\n",
        "\n",
        "Calcula y compara la accuracy del modelo original (sin lematización) y la del modelo lematizado.\n",
        "\n",
        "Te permite discutir con claridad si la normalización lingüística ayudó o no a mejorar el rendimiento."
      ],
      "metadata": {
        "id": "1Cn51s1i_CXv"
      }
    }
  ]
}